{
 "cells": [
  {
   "cell_type": "markdown",
   "metadata": {},
   "source": [
    "**Task 2 - Stock Market Prediction And Forecasting Using Stacked LSTM**"
   ]
  },
  {
   "cell_type": "markdown",
   "metadata": {},
   "source": [
    "**Link for the dataset:** https://raw.githubusercontent.com/mwitiderrick/stockprice/master/NSE-TATAGLOBAL.csv"
   ]
  },
  {
   "cell_type": "markdown",
   "metadata": {},
   "source": [
    "**Importing libraries**"
   ]
  },
  {
   "cell_type": "code",
   "execution_count": 4,
   "metadata": {
    "execution": {
     "iopub.execute_input": "2022-04-10T16:14:04.287926Z",
     "iopub.status.busy": "2022-04-10T16:14:04.287252Z",
     "iopub.status.idle": "2022-04-10T16:14:04.294094Z",
     "shell.execute_reply": "2022-04-10T16:14:04.293270Z",
     "shell.execute_reply.started": "2022-04-10T16:14:04.287890Z"
    }
   },
   "outputs": [],
   "source": [
    "import numpy as np\n",
    "import pandas as pd\n",
    "import matplotlib.pyplot as plt\n",
    "%matplotlib inline\n",
    "import tensorflow as tf"
   ]
  },
  {
   "cell_type": "markdown",
   "metadata": {},
   "source": [
    "**Load the dataset**"
   ]
  },
  {
   "cell_type": "code",
   "execution_count": 5,
   "metadata": {
    "execution": {
     "iopub.execute_input": "2022-04-10T16:14:18.347001Z",
     "iopub.status.busy": "2022-04-10T16:14:18.346234Z",
     "iopub.status.idle": "2022-04-10T16:14:18.594039Z",
     "shell.execute_reply": "2022-04-10T16:14:18.593235Z",
     "shell.execute_reply.started": "2022-04-10T16:14:18.346960Z"
    }
   },
   "outputs": [],
   "source": [
    "df=pd.read_csv(\"https://raw.githubusercontent.com/mwitiderrick/stockprice/master/NSE-TATAGLOBAL.csv\")\n",
    "df"
   ]
  },
  {
   "cell_type": "code",
   "execution_count": 6,
   "metadata": {
    "execution": {
     "iopub.execute_input": "2022-04-10T16:14:24.777297Z",
     "iopub.status.busy": "2022-04-10T16:14:24.777047Z",
     "iopub.status.idle": "2022-04-10T16:14:24.782911Z",
     "shell.execute_reply": "2022-04-10T16:14:24.782146Z",
     "shell.execute_reply.started": "2022-04-10T16:14:24.777268Z"
    }
   },
   "outputs": [],
   "source": [
    "df.shape"
   ]
  },
  {
   "cell_type": "code",
   "execution_count": 7,
   "metadata": {
    "execution": {
     "iopub.execute_input": "2022-04-10T16:14:26.426733Z",
     "iopub.status.busy": "2022-04-10T16:14:26.426258Z",
     "iopub.status.idle": "2022-04-10T16:14:26.432139Z",
     "shell.execute_reply": "2022-04-10T16:14:26.431370Z",
     "shell.execute_reply.started": "2022-04-10T16:14:26.426693Z"
    }
   },
   "outputs": [],
   "source": [
    "df.columns"
   ]
  },
  {
   "cell_type": "code",
   "execution_count": 8,
   "metadata": {
    "execution": {
     "iopub.execute_input": "2022-04-10T16:14:28.046905Z",
     "iopub.status.busy": "2022-04-10T16:14:28.046332Z",
     "iopub.status.idle": "2022-04-10T16:14:28.192988Z",
     "shell.execute_reply": "2022-04-10T16:14:28.192223Z",
     "shell.execute_reply.started": "2022-04-10T16:14:28.046863Z"
    }
   },
   "outputs": [],
   "source": [
    "df.info()"
   ]
  },
  {
   "cell_type": "code",
   "execution_count": 9,
   "metadata": {
    "execution": {
     "iopub.execute_input": "2022-04-10T16:14:30.406639Z",
     "iopub.status.busy": "2022-04-10T16:14:30.406364Z",
     "iopub.status.idle": "2022-04-10T16:14:30.438567Z",
     "shell.execute_reply": "2022-04-10T16:14:30.437923Z",
     "shell.execute_reply.started": "2022-04-10T16:14:30.406609Z"
    }
   },
   "outputs": [],
   "source": [
    "df.describe()"
   ]
  },
  {
   "cell_type": "markdown",
   "metadata": {},
   "source": [
    "**Handling Null value**"
   ]
  },
  {
   "cell_type": "code",
   "execution_count": 10,
   "metadata": {
    "execution": {
     "iopub.execute_input": "2022-04-10T16:14:35.616989Z",
     "iopub.status.busy": "2022-04-10T16:14:35.616718Z",
     "iopub.status.idle": "2022-04-10T16:14:35.627239Z",
     "shell.execute_reply": "2022-04-10T16:14:35.626424Z",
     "shell.execute_reply.started": "2022-04-10T16:14:35.616957Z"
    }
   },
   "outputs": [],
   "source": [
    "df.isnull().sum()"
   ]
  },
  {
   "cell_type": "markdown",
   "metadata": {},
   "source": [
    "**Data Visualization**"
   ]
  },
  {
   "cell_type": "code",
   "execution_count": 11,
   "metadata": {
    "execution": {
     "iopub.execute_input": "2022-04-10T16:14:43.227823Z",
     "iopub.status.busy": "2022-04-10T16:14:43.227265Z",
     "iopub.status.idle": "2022-04-10T16:14:43.948483Z",
     "shell.execute_reply": "2022-04-10T16:14:43.947768Z",
     "shell.execute_reply.started": "2022-04-10T16:14:43.227783Z"
    }
   },
   "outputs": [],
   "source": [
    "import seaborn as sns\n",
    "plt.figure(figsize = (8,8))\n",
    "sns.heatmap(df.corr(), annot = True)"
   ]
  },
  {
   "cell_type": "code",
   "execution_count": 12,
   "metadata": {
    "execution": {
     "iopub.execute_input": "2022-04-10T16:14:48.834956Z",
     "iopub.status.busy": "2022-04-10T16:14:48.834374Z",
     "iopub.status.idle": "2022-04-10T16:14:49.032928Z",
     "shell.execute_reply": "2022-04-10T16:14:49.032258Z",
     "shell.execute_reply.started": "2022-04-10T16:14:48.834918Z"
    }
   },
   "outputs": [],
   "source": [
    "plt.plot(df['High'])"
   ]
  },
  {
   "cell_type": "code",
   "execution_count": 13,
   "metadata": {
    "execution": {
     "iopub.execute_input": "2022-04-10T16:14:55.487713Z",
     "iopub.status.busy": "2022-04-10T16:14:55.487167Z",
     "iopub.status.idle": "2022-04-10T16:14:55.515522Z",
     "shell.execute_reply": "2022-04-10T16:14:55.514869Z",
     "shell.execute_reply.started": "2022-04-10T16:14:55.487674Z"
    }
   },
   "outputs": [],
   "source": [
    "df.Date = pd.to_datetime(df.Date,format=\"%Y-%m-%d\")\n",
    "df.index = df['Date']\n",
    "df.drop('Date', axis = 1,inplace = True)\n",
    "df"
   ]
  },
  {
   "cell_type": "markdown",
   "metadata": {},
   "source": [
    "LSTM are sensitive to the scale of the data so we apply MinMax scaler"
   ]
  },
  {
   "cell_type": "code",
   "execution_count": 14,
   "metadata": {
    "execution": {
     "iopub.execute_input": "2022-04-10T16:15:04.979605Z",
     "iopub.status.busy": "2022-04-10T16:15:04.979007Z",
     "iopub.status.idle": "2022-04-10T16:15:04.985659Z",
     "shell.execute_reply": "2022-04-10T16:15:04.984851Z",
     "shell.execute_reply.started": "2022-04-10T16:15:04.979566Z"
    }
   },
   "outputs": [],
   "source": [
    "df_high=df.reset_index()['High']"
   ]
  },
  {
   "cell_type": "code",
   "execution_count": 15,
   "metadata": {
    "execution": {
     "iopub.execute_input": "2022-04-10T16:15:06.245528Z",
     "iopub.status.busy": "2022-04-10T16:15:06.244559Z",
     "iopub.status.idle": "2022-04-10T16:15:06.254974Z",
     "shell.execute_reply": "2022-04-10T16:15:06.253975Z",
     "shell.execute_reply.started": "2022-04-10T16:15:06.245475Z"
    }
   },
   "outputs": [],
   "source": [
    "df_high"
   ]
  },
  {
   "cell_type": "code",
   "execution_count": 17,
   "metadata": {
    "execution": {
     "iopub.execute_input": "2022-04-10T16:16:38.068602Z",
     "iopub.status.busy": "2022-04-10T16:16:38.068045Z",
     "iopub.status.idle": "2022-04-10T16:16:38.307979Z",
     "shell.execute_reply": "2022-04-10T16:16:38.307251Z",
     "shell.execute_reply.started": "2022-04-10T16:16:38.068561Z"
    }
   },
   "outputs": [],
   "source": [
    "plt.plot(df['High'])"
   ]
  },
  {
   "cell_type": "code",
   "execution_count": 18,
   "metadata": {
    "execution": {
     "iopub.execute_input": "2022-04-10T16:16:43.878421Z",
     "iopub.status.busy": "2022-04-10T16:16:43.877437Z",
     "iopub.status.idle": "2022-04-10T16:16:43.917482Z",
     "shell.execute_reply": "2022-04-10T16:16:43.916817Z",
     "shell.execute_reply.started": "2022-04-10T16:16:43.878350Z"
    }
   },
   "outputs": [],
   "source": [
    "from sklearn.preprocessing import MinMaxScaler\n",
    "scaler=MinMaxScaler(feature_range=(0,1))\n",
    "df_high=scaler.fit_transform(np.array(df_high).reshape(-1,1))"
   ]
  },
  {
   "cell_type": "code",
   "execution_count": 19,
   "metadata": {
    "execution": {
     "iopub.execute_input": "2022-04-10T16:16:45.986817Z",
     "iopub.status.busy": "2022-04-10T16:16:45.986545Z",
     "iopub.status.idle": "2022-04-10T16:16:45.996093Z",
     "shell.execute_reply": "2022-04-10T16:16:45.995275Z",
     "shell.execute_reply.started": "2022-04-10T16:16:45.986788Z"
    }
   },
   "outputs": [],
   "source": [
    "print(df_high)"
   ]
  },
  {
   "cell_type": "markdown",
   "metadata": {},
   "source": [
    "**Data Splitting**"
   ]
  },
  {
   "cell_type": "code",
   "execution_count": 20,
   "metadata": {
    "execution": {
     "iopub.execute_input": "2022-04-10T16:16:52.167423Z",
     "iopub.status.busy": "2022-04-10T16:16:52.166551Z",
     "iopub.status.idle": "2022-04-10T16:16:52.175023Z",
     "shell.execute_reply": "2022-04-10T16:16:52.174314Z",
     "shell.execute_reply.started": "2022-04-10T16:16:52.167371Z"
    }
   },
   "outputs": [],
   "source": [
    "training_size=int(len(df_high)*0.75)\n",
    "test_size=len(df_high)-training_size\n",
    "train_data,test_data=df_high[0:training_size,:],df_high[training_size:len(df_high),:1]"
   ]
  },
  {
   "cell_type": "code",
   "execution_count": 21,
   "metadata": {
    "execution": {
     "iopub.execute_input": "2022-04-10T16:16:53.496895Z",
     "iopub.status.busy": "2022-04-10T16:16:53.496333Z",
     "iopub.status.idle": "2022-04-10T16:16:53.503473Z",
     "shell.execute_reply": "2022-04-10T16:16:53.502339Z",
     "shell.execute_reply.started": "2022-04-10T16:16:53.496860Z"
    }
   },
   "outputs": [],
   "source": [
    "training_size,test_size"
   ]
  },
  {
   "cell_type": "code",
   "execution_count": 22,
   "metadata": {
    "execution": {
     "iopub.execute_input": "2022-04-10T16:16:58.157409Z",
     "iopub.status.busy": "2022-04-10T16:16:58.156556Z",
     "iopub.status.idle": "2022-04-10T16:16:58.164289Z",
     "shell.execute_reply": "2022-04-10T16:16:58.163598Z",
     "shell.execute_reply.started": "2022-04-10T16:16:58.157346Z"
    }
   },
   "outputs": [],
   "source": [
    "# convert an array of values into a dataset matrix\n",
    "def create_dataset(dataset, time_step=1):\n",
    "    dataX, dataY = [], []\n",
    "    for i in range(len(dataset)-time_step-1):\n",
    "        a = dataset[i:(i+time_step), 0]\n",
    "        dataX.append(a)\n",
    "        dataY.append(dataset[i + time_step, 0])\n",
    "    return np.array(dataX), np.array(dataY)"
   ]
  },
  {
   "cell_type": "code",
   "execution_count": 23,
   "metadata": {
    "execution": {
     "iopub.execute_input": "2022-04-10T16:16:59.736935Z",
     "iopub.status.busy": "2022-04-10T16:16:59.736611Z",
     "iopub.status.idle": "2022-04-10T16:16:59.751738Z",
     "shell.execute_reply": "2022-04-10T16:16:59.751064Z",
     "shell.execute_reply.started": "2022-04-10T16:16:59.736900Z"
    }
   },
   "outputs": [],
   "source": [
    "# reshape into X=t,t+1,t+2,t+3 and Y=t+4\n",
    "time_step = 100\n",
    "X_train, y_train = create_dataset(train_data, time_step)\n",
    "X_test, y_test = create_dataset(test_data, time_step)"
   ]
  },
  {
   "cell_type": "code",
   "execution_count": 24,
   "metadata": {
    "execution": {
     "iopub.execute_input": "2022-04-10T16:17:03.995113Z",
     "iopub.status.busy": "2022-04-10T16:17:03.994567Z",
     "iopub.status.idle": "2022-04-10T16:17:04.001618Z",
     "shell.execute_reply": "2022-04-10T16:17:04.000924Z",
     "shell.execute_reply.started": "2022-04-10T16:17:03.995073Z"
    }
   },
   "outputs": [],
   "source": [
    "print(X_train.shape), print(y_train.shape)"
   ]
  },
  {
   "cell_type": "code",
   "execution_count": 25,
   "metadata": {
    "execution": {
     "iopub.execute_input": "2022-04-10T16:17:05.697520Z",
     "iopub.status.busy": "2022-04-10T16:17:05.696619Z",
     "iopub.status.idle": "2022-04-10T16:17:05.706310Z",
     "shell.execute_reply": "2022-04-10T16:17:05.705213Z",
     "shell.execute_reply.started": "2022-04-10T16:17:05.697464Z"
    }
   },
   "outputs": [],
   "source": [
    "print(X_test.shape), print(y_test.shape)"
   ]
  },
  {
   "cell_type": "code",
   "execution_count": 26,
   "metadata": {
    "execution": {
     "iopub.execute_input": "2022-04-10T16:17:09.287026Z",
     "iopub.status.busy": "2022-04-10T16:17:09.286366Z",
     "iopub.status.idle": "2022-04-10T16:17:09.291254Z",
     "shell.execute_reply": "2022-04-10T16:17:09.290425Z",
     "shell.execute_reply.started": "2022-04-10T16:17:09.286987Z"
    }
   },
   "outputs": [],
   "source": [
    "# reshape input to be [samples, time steps, features] which is required for LSTM\n",
    "X_train =X_train.reshape(X_train.shape[0],X_train.shape[1] , 1)\n",
    "X_test = X_test.reshape(X_test.shape[0],X_test.shape[1] , 1)"
   ]
  },
  {
   "cell_type": "markdown",
   "metadata": {},
   "source": [
    "**Creating a LSTM model**"
   ]
  },
  {
   "cell_type": "code",
   "execution_count": 27,
   "metadata": {
    "execution": {
     "iopub.execute_input": "2022-04-10T16:17:14.497171Z",
     "iopub.status.busy": "2022-04-10T16:17:14.496665Z",
     "iopub.status.idle": "2022-04-10T16:17:14.653652Z",
     "shell.execute_reply": "2022-04-10T16:17:14.652916Z",
     "shell.execute_reply.started": "2022-04-10T16:17:14.497131Z"
    }
   },
   "outputs": [],
   "source": [
    "# Create the Stacked LSTM model\n",
    "from tensorflow.keras.models import Sequential\n",
    "from tensorflow.keras.layers import Dense\n",
    "from tensorflow.keras.layers import LSTM"
   ]
  },
  {
   "cell_type": "code",
   "execution_count": 28,
   "metadata": {
    "execution": {
     "iopub.execute_input": "2022-04-10T16:17:16.855115Z",
     "iopub.status.busy": "2022-04-10T16:17:16.854535Z",
     "iopub.status.idle": "2022-04-10T16:17:18.418945Z",
     "shell.execute_reply": "2022-04-10T16:17:18.417940Z",
     "shell.execute_reply.started": "2022-04-10T16:17:16.855074Z"
    }
   },
   "outputs": [],
   "source": [
    "model=Sequential()\n",
    "model.add(LSTM(50,return_sequences=True,input_shape=(100,1)))\n",
    "model.add(LSTM(50,return_sequences=True))\n",
    "model.add(LSTM(50))\n",
    "model.add(Dense(1))\n",
    "model.compile(loss='mean_squared_error',optimizer='adam')"
   ]
  },
  {
   "cell_type": "code",
   "execution_count": 29,
   "metadata": {
    "execution": {
     "iopub.execute_input": "2022-04-10T16:17:36.228057Z",
     "iopub.status.busy": "2022-04-10T16:17:36.227315Z",
     "iopub.status.idle": "2022-04-10T16:17:36.238793Z",
     "shell.execute_reply": "2022-04-10T16:17:36.235128Z",
     "shell.execute_reply.started": "2022-04-10T16:17:36.228018Z"
    }
   },
   "outputs": [],
   "source": [
    "model.summary()\n"
   ]
  },
  {
   "cell_type": "code",
   "execution_count": 30,
   "metadata": {
    "execution": {
     "iopub.execute_input": "2022-04-10T16:17:43.307612Z",
     "iopub.status.busy": "2022-04-10T16:17:43.306961Z",
     "iopub.status.idle": "2022-04-10T16:18:30.130216Z",
     "shell.execute_reply": "2022-04-10T16:18:30.129545Z",
     "shell.execute_reply.started": "2022-04-10T16:17:43.307573Z"
    }
   },
   "outputs": [],
   "source": [
    "model.fit(X_train,y_train,validation_data=(X_test,y_test),epochs=100,batch_size=64,verbose=1)"
   ]
  },
  {
   "cell_type": "markdown",
   "metadata": {},
   "source": [
    "**Predictions**"
   ]
  },
  {
   "cell_type": "code",
   "execution_count": 31,
   "metadata": {
    "execution": {
     "iopub.execute_input": "2022-04-10T16:20:50.786715Z",
     "iopub.status.busy": "2022-04-10T16:20:50.786355Z",
     "iopub.status.idle": "2022-04-10T16:20:52.006651Z",
     "shell.execute_reply": "2022-04-10T16:20:52.005879Z",
     "shell.execute_reply.started": "2022-04-10T16:20:50.786676Z"
    }
   },
   "outputs": [],
   "source": [
    "# Lets do the prediction and check performance metrics\n",
    "train_predict = model.predict(X_train)\n",
    "test_predict = model.predict(X_test)"
   ]
  },
  {
   "cell_type": "code",
   "execution_count": 32,
   "metadata": {
    "execution": {
     "iopub.execute_input": "2022-04-10T16:20:56.906046Z",
     "iopub.status.busy": "2022-04-10T16:20:56.905507Z",
     "iopub.status.idle": "2022-04-10T16:20:56.910719Z",
     "shell.execute_reply": "2022-04-10T16:20:56.909861Z",
     "shell.execute_reply.started": "2022-04-10T16:20:56.906006Z"
    }
   },
   "outputs": [],
   "source": [
    "#Transformback to original form\n",
    "train_predict = scaler.inverse_transform(train_predict)\n",
    "test_predict = scaler.inverse_transform(test_predict)"
   ]
  },
  {
   "cell_type": "markdown",
   "metadata": {},
   "source": [
    "**Model Evaluation**"
   ]
  },
  {
   "cell_type": "code",
   "execution_count": 33,
   "metadata": {
    "execution": {
     "iopub.execute_input": "2022-04-10T16:21:01.156426Z",
     "iopub.status.busy": "2022-04-10T16:21:01.155544Z",
     "iopub.status.idle": "2022-04-10T16:21:01.196431Z",
     "shell.execute_reply": "2022-04-10T16:21:01.195618Z",
     "shell.execute_reply.started": "2022-04-10T16:21:01.156374Z"
    }
   },
   "outputs": [],
   "source": [
    "# Calculate RMSE performance metrics\n",
    "import math\n",
    "from sklearn.metrics import mean_squared_error\n",
    "math.sqrt(mean_squared_error(y_train,train_predict))"
   ]
  },
  {
   "cell_type": "code",
   "execution_count": 34,
   "metadata": {
    "execution": {
     "iopub.execute_input": "2022-04-10T16:21:07.227258Z",
     "iopub.status.busy": "2022-04-10T16:21:07.226999Z",
     "iopub.status.idle": "2022-04-10T16:21:07.235290Z",
     "shell.execute_reply": "2022-04-10T16:21:07.234433Z",
     "shell.execute_reply.started": "2022-04-10T16:21:07.227227Z"
    }
   },
   "outputs": [],
   "source": [
    "# Test Data RMSE\n",
    "math.sqrt(mean_squared_error(y_test,test_predict))"
   ]
  },
  {
   "cell_type": "markdown",
   "metadata": {},
   "source": [
    "**Plot the results**"
   ]
  },
  {
   "cell_type": "code",
   "execution_count": 36,
   "metadata": {
    "execution": {
     "iopub.execute_input": "2022-04-10T16:22:19.598987Z",
     "iopub.status.busy": "2022-04-10T16:22:19.598648Z",
     "iopub.status.idle": "2022-04-10T16:22:19.803474Z",
     "shell.execute_reply": "2022-04-10T16:22:19.802735Z",
     "shell.execute_reply.started": "2022-04-10T16:22:19.598946Z"
    }
   },
   "outputs": [],
   "source": [
    "#Shift train prediction for plotting\n",
    "look_back = 100\n",
    "trainPredictPlot = np.empty_like(df_high)\n",
    "trainPredictPlot[:,:] = np.nan\n",
    "trainPredictPlot[look_back:len(train_predict) + look_back, :] = train_predict\n",
    "\n",
    "#Shift test prediction for plotting\n",
    "testPredictPlot = np.empty_like(df_high)\n",
    "testPredictPlot[:,:] = np.nan\n",
    "testPredictPlot[len(train_predict) + (look_back * 2)+1:len(df_high) - 1, :] = test_predict\n",
    "\n",
    "#Plot baseline and predictions\n",
    "plt.figure(figsize=(15,5))\n",
    "plt.plot(scaler.inverse_transform(df_high))\n",
    "plt.plot(trainPredictPlot)\n",
    "plt.plot(testPredictPlot)\n",
    "plt.show()"
   ]
  },
  {
   "cell_type": "markdown",
   "metadata": {},
   "source": [
    "**Making predictions for next 10 days**"
   ]
  },
  {
   "cell_type": "code",
   "execution_count": 38,
   "metadata": {
    "execution": {
     "iopub.execute_input": "2022-04-10T16:22:44.795270Z",
     "iopub.status.busy": "2022-04-10T16:22:44.795011Z",
     "iopub.status.idle": "2022-04-10T16:22:44.800682Z",
     "shell.execute_reply": "2022-04-10T16:22:44.800002Z",
     "shell.execute_reply.started": "2022-04-10T16:22:44.795240Z"
    }
   },
   "outputs": [],
   "source": [
    "len(test_data)"
   ]
  },
  {
   "cell_type": "code",
   "execution_count": 39,
   "metadata": {
    "execution": {
     "iopub.execute_input": "2022-04-10T16:23:38.158446Z",
     "iopub.status.busy": "2022-04-10T16:23:38.157881Z",
     "iopub.status.idle": "2022-04-10T16:23:38.163786Z",
     "shell.execute_reply": "2022-04-10T16:23:38.163128Z",
     "shell.execute_reply.started": "2022-04-10T16:23:38.158387Z"
    }
   },
   "outputs": [],
   "source": [
    "X_input = test_data[409:].reshape(1,-1)\n",
    "X_input.shape"
   ]
  },
  {
   "cell_type": "code",
   "execution_count": 40,
   "metadata": {
    "execution": {
     "iopub.execute_input": "2022-04-10T16:23:43.877817Z",
     "iopub.status.busy": "2022-04-10T16:23:43.877036Z",
     "iopub.status.idle": "2022-04-10T16:23:43.884896Z",
     "shell.execute_reply": "2022-04-10T16:23:43.883858Z",
     "shell.execute_reply.started": "2022-04-10T16:23:43.877773Z"
    }
   },
   "outputs": [],
   "source": [
    "temp_input = list(X_input)\n",
    "temp_input = temp_input[0].tolist()"
   ]
  },
  {
   "cell_type": "code",
   "execution_count": 42,
   "metadata": {
    "execution": {
     "iopub.execute_input": "2022-04-10T16:25:00.049082Z",
     "iopub.status.busy": "2022-04-10T16:25:00.048392Z",
     "iopub.status.idle": "2022-04-10T16:25:01.246416Z",
     "shell.execute_reply": "2022-04-10T16:25:01.245685Z",
     "shell.execute_reply.started": "2022-04-10T16:25:00.049044Z"
    }
   },
   "outputs": [],
   "source": [
    "from numpy import array\n",
    "\n",
    "lst_output=[]\n",
    "n_steps=100\n",
    "i=0\n",
    "while(i<30):\n",
    "    \n",
    "    if(len(temp_input)>100):\n",
    "        X_input=np.array(temp_input[1:])\n",
    "        print(\"{} day input {}\".format(i,X_input))\n",
    "        X_input=X_input.reshape(1,-1)\n",
    "        X_input = X_input.reshape((1, n_steps, 1))\n",
    "        #print(x_input)\n",
    "        yhat = model.predict(X_input, verbose=0)\n",
    "        print(\"{} day output {}\".format(i,yhat))\n",
    "        temp_input.extend(yhat[0].tolist())\n",
    "        temp_input=temp_input[1:]\n",
    "        #print(temp_input)\n",
    "        lst_output.extend(yhat.tolist())\n",
    "        i=i+1\n",
    "    else:\n",
    "        X_input = X_input.reshape((1, n_steps,1))\n",
    "        yhat = model.predict(X_input, verbose=0)\n",
    "        print(yhat[0])\n",
    "        temp_input.extend(yhat[0].tolist())\n",
    "        print(len(temp_input))\n",
    "        lst_output.extend(yhat.tolist())\n",
    "        i=i+1"
   ]
  },
  {
   "cell_type": "code",
   "execution_count": 43,
   "metadata": {
    "execution": {
     "iopub.execute_input": "2022-04-10T16:25:12.845341Z",
     "iopub.status.busy": "2022-04-10T16:25:12.845074Z",
     "iopub.status.idle": "2022-04-10T16:25:12.849835Z",
     "shell.execute_reply": "2022-04-10T16:25:12.848941Z",
     "shell.execute_reply.started": "2022-04-10T16:25:12.845310Z"
    }
   },
   "outputs": [],
   "source": [
    "day_new=np.arange(1,101)\n",
    "day_pred=np.arange(101,131)"
   ]
  },
  {
   "cell_type": "code",
   "execution_count": 44,
   "metadata": {
    "execution": {
     "iopub.execute_input": "2022-04-10T16:25:19.185057Z",
     "iopub.status.busy": "2022-04-10T16:25:19.184349Z",
     "iopub.status.idle": "2022-04-10T16:25:19.190482Z",
     "shell.execute_reply": "2022-04-10T16:25:19.189037Z",
     "shell.execute_reply.started": "2022-04-10T16:25:19.185018Z"
    }
   },
   "outputs": [],
   "source": [
    "df_new = df_high.tolist()\n",
    "df_new.extend(lst_output)"
   ]
  },
  {
   "cell_type": "code",
   "execution_count": 47,
   "metadata": {
    "execution": {
     "iopub.execute_input": "2022-04-10T16:28:00.633185Z",
     "iopub.status.busy": "2022-04-10T16:28:00.632703Z",
     "iopub.status.idle": "2022-04-10T16:28:00.821302Z",
     "shell.execute_reply": "2022-04-10T16:28:00.820628Z",
     "shell.execute_reply.started": "2022-04-10T16:28:00.633124Z"
    }
   },
   "outputs": [],
   "source": [
    "plt.plot(day_new,scaler.inverse_transform(df_high[1935:]))\n",
    "plt.plot(day_pred,scaler.inverse_transform(lst_output))"
   ]
  },
  {
   "cell_type": "code",
   "execution_count": 48,
   "metadata": {
    "execution": {
     "iopub.execute_input": "2022-04-10T16:28:36.637275Z",
     "iopub.status.busy": "2022-04-10T16:28:36.637000Z",
     "iopub.status.idle": "2022-04-10T16:28:36.828281Z",
     "shell.execute_reply": "2022-04-10T16:28:36.827598Z",
     "shell.execute_reply.started": "2022-04-10T16:28:36.637242Z"
    }
   },
   "outputs": [],
   "source": [
    "df_new = df_high.tolist()\n",
    "df_new.extend(lst_output)\n",
    "plt.plot(df_new[2000:])"
   ]
  },
  {
   "cell_type": "code",
   "execution_count": 49,
   "metadata": {
    "execution": {
     "iopub.execute_input": "2022-04-10T16:28:52.524975Z",
     "iopub.status.busy": "2022-04-10T16:28:52.524275Z",
     "iopub.status.idle": "2022-04-10T16:28:52.532199Z",
     "shell.execute_reply": "2022-04-10T16:28:52.531295Z",
     "shell.execute_reply.started": "2022-04-10T16:28:52.524937Z"
    }
   },
   "outputs": [],
   "source": [
    "df_new = scaler.inverse_transform(df_new).tolist()"
   ]
  },
  {
   "cell_type": "code",
   "execution_count": 50,
   "metadata": {
    "execution": {
     "iopub.execute_input": "2022-04-10T16:28:55.473059Z",
     "iopub.status.busy": "2022-04-10T16:28:55.472355Z",
     "iopub.status.idle": "2022-04-10T16:28:55.646762Z",
     "shell.execute_reply": "2022-04-10T16:28:55.646120Z",
     "shell.execute_reply.started": "2022-04-10T16:28:55.473018Z"
    }
   },
   "outputs": [],
   "source": [
    "plt.plot(df_new)"
   ]
  }
 ],
 "metadata": {
  "kernelspec": {
   "display_name": "Python 3 (ipykernel)",
   "language": "python",
   "name": "python3"
  },
  "language_info": {
   "codemirror_mode": {
    "name": "ipython",
    "version": 3
   },
   "file_extension": ".py",
   "mimetype": "text/x-python",
   "name": "python",
   "nbconvert_exporter": "python",
   "pygments_lexer": "ipython3",
   "version": "3.9.1"
  }
 },
 "nbformat": 4,
 "nbformat_minor": 4
}
